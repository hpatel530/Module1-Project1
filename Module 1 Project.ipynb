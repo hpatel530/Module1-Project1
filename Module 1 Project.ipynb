{
 "cells": [
  {
   "cell_type": "markdown",
   "metadata": {},
   "source": [
    "## Final Project Submission\n",
    "\n",
    "Please fill out:\n",
    "* Student name: Hiten Patel  \n",
    "* Student pace: Full Time Online Data Science\n",
    "* Scheduled project review date/time: Aug, 7th; 1;30pm\n",
    "* Instructor name: James Irving \n",
    "* Blog post URL:https://hpatel530.github.io/\n"
   ]
  },
  {
   "cell_type": "code",
   "execution_count": 1,
   "metadata": {},
   "outputs": [],
   "source": [
    "# Your code here - remember to use markdown cells for comments as well!"
   ]
  },
  {
   "cell_type": "markdown",
   "metadata": {},
   "source": [
    "## WEB Scraping IMDB TOP 250 "
   ]
  },
  {
   "cell_type": "markdown",
   "metadata": {},
   "source": [
    "**Using the get() method to retrieve a website**\n",
    "\n",
    "**Using the status_code method to double check success**"
   ]
  },
  {
   "cell_type": "code",
   "execution_count": 1,
   "metadata": {},
   "outputs": [
    {
     "data": {
      "text/plain": [
       "200"
      ]
     },
     "execution_count": 1,
     "metadata": {},
     "output_type": "execute_result"
    }
   ],
   "source": [
    "import requests\n",
    "url = 'https://www.imdb.com/search/title/?groups=top_250&sort=user_rating'\n",
    "response = requests.get(url)\n",
    "response.status_code"
   ]
  },
  {
   "cell_type": "markdown",
   "metadata": {},
   "source": [
    "**Importing BeautifulSoup and running the website through that package**"
   ]
  },
  {
   "cell_type": "code",
   "execution_count": 2,
   "metadata": {},
   "outputs": [],
   "source": [
    "from bs4 import BeautifulSoup \n",
    "soup = BeautifulSoup(response.content, 'html.parser')"
   ]
  },
  {
   "cell_type": "markdown",
   "metadata": {},
   "source": [
    "**Extracting the Movie Title from Page 1**"
   ]
  },
  {
   "cell_type": "code",
   "execution_count": 3,
   "metadata": {
    "scrolled": true
   },
   "outputs": [
    {
     "name": "stdout",
     "output_type": "stream",
     "text": [
      "['The Shawshank Redemption', 'The Godfather', 'The Dark Knight', 'The Godfather: Part II', 'The Lord of the Rings: The Return of the King', 'Pulp Fiction', \"Schindler's List\", '12 Angry Men', 'Hamilton', 'Inception', 'Fight Club', 'The Lord of the Rings: The Fellowship of the Ring', 'Forrest Gump', 'The Good, the Bad and the Ugly', 'The Lord of the Rings: The Two Towers', 'The Matrix', 'Goodfellas', 'Star Wars: Episode V - The Empire Strikes Back', \"One Flew Over the Cuckoo's Nest\", 'Harakiri', 'Parasite', 'Interstellar', 'City of God', 'Spirited Away', 'Saving Private Ryan', 'The Green Mile', 'Life Is Beautiful', 'Se7en', 'The Silence of the Lambs', 'Star Wars: Episode IV - A New Hope', 'Seven Samurai', \"It's a Wonderful Life\", 'Joker', 'Whiplash', 'The Intouchables', 'The Prestige', 'The Departed', 'The Pianist', 'Gladiator', 'American History X', 'The Usual Suspects', 'Léon: The Professional', 'The Lion King', 'Terminator 2: Judgment Day', 'Cinema Paradiso', 'Grave of the Fireflies', 'Back to the Future', 'Anand', 'Once Upon a Time in the West', 'Psycho']\n"
     ]
    }
   ],
   "source": [
    "title_content = soup.find('div', class_='lister-list')\n",
    "list_of_h3= title_content.find_all('h3')\n",
    "\n",
    "final_title = []\n",
    "for h3 in list_of_h3: \n",
    "    text = h3.text.replace('\\n', '').split('.')[1]\n",
    "    text = text[:-6]\n",
    "    final_title.append(text) \n",
    "print (final_title)"
   ]
  },
  {
   "cell_type": "markdown",
   "metadata": {},
   "source": [
    "**Retrieve Movie Title Function**"
   ]
  },
  {
   "cell_type": "code",
   "execution_count": 4,
   "metadata": {},
   "outputs": [],
   "source": [
    "def retrieve_movietitle(soup):\n",
    "    title_content = soup.find('div', class_='lister-list')\n",
    "    list_of_h3= title_content.find_all('h3')\n",
    "    final_title = []\n",
    "    for h3 in list_of_h3: \n",
    "        text = h3.text.replace('\\n', '').split('.')[1]\n",
    "        text = text[:-6]\n",
    "        final_title.append(text)\n",
    "    \n",
    "    return final_title"
   ]
  },
  {
   "cell_type": "code",
   "execution_count": 5,
   "metadata": {},
   "outputs": [
    {
     "data": {
      "text/plain": [
       "['The Shawshank Redemption',\n",
       " 'The Godfather',\n",
       " 'The Dark Knight',\n",
       " 'The Godfather: Part II',\n",
       " 'The Lord of the Rings: The Return of the King',\n",
       " 'Pulp Fiction',\n",
       " \"Schindler's List\",\n",
       " '12 Angry Men',\n",
       " 'Hamilton',\n",
       " 'Inception',\n",
       " 'Fight Club',\n",
       " 'The Lord of the Rings: The Fellowship of the Ring',\n",
       " 'Forrest Gump',\n",
       " 'The Good, the Bad and the Ugly',\n",
       " 'The Lord of the Rings: The Two Towers',\n",
       " 'The Matrix',\n",
       " 'Goodfellas',\n",
       " 'Star Wars: Episode V - The Empire Strikes Back',\n",
       " \"One Flew Over the Cuckoo's Nest\",\n",
       " 'Harakiri',\n",
       " 'Parasite',\n",
       " 'Interstellar',\n",
       " 'City of God',\n",
       " 'Spirited Away',\n",
       " 'Saving Private Ryan',\n",
       " 'The Green Mile',\n",
       " 'Life Is Beautiful',\n",
       " 'Se7en',\n",
       " 'The Silence of the Lambs',\n",
       " 'Star Wars: Episode IV - A New Hope',\n",
       " 'Seven Samurai',\n",
       " \"It's a Wonderful Life\",\n",
       " 'Joker',\n",
       " 'Whiplash',\n",
       " 'The Intouchables',\n",
       " 'The Prestige',\n",
       " 'The Departed',\n",
       " 'The Pianist',\n",
       " 'Gladiator',\n",
       " 'American History X',\n",
       " 'The Usual Suspects',\n",
       " 'Léon: The Professional',\n",
       " 'The Lion King',\n",
       " 'Terminator 2: Judgment Day',\n",
       " 'Cinema Paradiso',\n",
       " 'Grave of the Fireflies',\n",
       " 'Back to the Future',\n",
       " 'Anand',\n",
       " 'Once Upon a Time in the West',\n",
       " 'Psycho']"
      ]
     },
     "execution_count": 5,
     "metadata": {},
     "output_type": "execute_result"
    }
   ],
   "source": [
    "#testing the function \n",
    "retrieve_movietitle(soup)"
   ]
  },
  {
   "cell_type": "markdown",
   "metadata": {},
   "source": [
    "**Extracting the Release Year**"
   ]
  },
  {
   "cell_type": "code",
   "execution_count": 6,
   "metadata": {},
   "outputs": [
    {
     "name": "stdout",
     "output_type": "stream",
     "text": [
      "['1994', '1972', '2008', '1974', '2003', '1994', '1993', '1957', '2020', '2010', '1999', '2001', '1994', '1966', '2002', '1999', '1990', '1980', '1975', '1962', '2019', '2014', '2002', '2001', '1998', '1999', '1997', '1995', '1991', '1977', '1954', '1946', '2019', '2014', '2011', '2006', '2006', '2002', '2000', '1998', '1995', '1994', '1994', '1991', '1988', '1988', '1985', '1971', '1968', '1960']\n"
     ]
    }
   ],
   "source": [
    "title_content = soup.find('div', class_='lister-list')\n",
    "list_of_h3= title_content.find_all('h3')\n",
    "#list_of_h3[0].text.replace('\\n', '')[-5:-1]\n",
    "release_year = []\n",
    "for h3 in list_of_h3:\n",
    "    text = h3.text[-6:-2]\n",
    "    release_year.append(text)\n",
    "print(release_year)"
   ]
  },
  {
   "cell_type": "markdown",
   "metadata": {},
   "source": [
    "**Retrieve Release Year Function**"
   ]
  },
  {
   "cell_type": "code",
   "execution_count": 7,
   "metadata": {},
   "outputs": [],
   "source": [
    "def retrieve_year(soup): \n",
    "    title_content = soup.find('div', class_='lister-list')\n",
    "    list_of_h3= title_content.find_all('h3')\n",
    "    release_year = []\n",
    "    for h3 in list_of_h3:\n",
    "        text = h3.text[-6:-2]\n",
    "        release_year.append(text)\n",
    "    return release_year"
   ]
  },
  {
   "cell_type": "code",
   "execution_count": 8,
   "metadata": {},
   "outputs": [
    {
     "data": {
      "text/plain": [
       "['1994',\n",
       " '1972',\n",
       " '2008',\n",
       " '1974',\n",
       " '2003',\n",
       " '1994',\n",
       " '1993',\n",
       " '1957',\n",
       " '2020',\n",
       " '2010',\n",
       " '1999',\n",
       " '2001',\n",
       " '1994',\n",
       " '1966',\n",
       " '2002',\n",
       " '1999',\n",
       " '1990',\n",
       " '1980',\n",
       " '1975',\n",
       " '1962',\n",
       " '2019',\n",
       " '2014',\n",
       " '2002',\n",
       " '2001',\n",
       " '1998',\n",
       " '1999',\n",
       " '1997',\n",
       " '1995',\n",
       " '1991',\n",
       " '1977',\n",
       " '1954',\n",
       " '1946',\n",
       " '2019',\n",
       " '2014',\n",
       " '2011',\n",
       " '2006',\n",
       " '2006',\n",
       " '2002',\n",
       " '2000',\n",
       " '1998',\n",
       " '1995',\n",
       " '1994',\n",
       " '1994',\n",
       " '1991',\n",
       " '1988',\n",
       " '1988',\n",
       " '1985',\n",
       " '1971',\n",
       " '1968',\n",
       " '1960']"
      ]
     },
     "execution_count": 8,
     "metadata": {},
     "output_type": "execute_result"
    }
   ],
   "source": [
    "#testing the function \n",
    "retrieve_year(soup)"
   ]
  },
  {
   "cell_type": "markdown",
   "metadata": {},
   "source": [
    "**Extracting the Movie Genre**"
   ]
  },
  {
   "cell_type": "code",
   "execution_count": 9,
   "metadata": {},
   "outputs": [
    {
     "name": "stdout",
     "output_type": "stream",
     "text": [
      "50 ['Drama', 'Crime, Drama', 'Action, Crime, Drama', 'Crime, Drama', 'Action, Adventure, Drama', 'Crime, Drama', 'Biography, Drama, History', 'Crime, Drama', 'Biography, Drama, History', 'Action, Adventure, Sci-Fi', 'Drama', 'Action, Adventure, Drama', 'Drama, Romance', 'Western', 'Action, Adventure, Drama', 'Action, Sci-Fi', 'Biography, Crime, Drama', 'Action, Adventure, Fantasy', 'Drama', 'Action, Drama, Mystery', 'Comedy, Drama, Thriller', 'Adventure, Drama, Sci-Fi', 'Crime, Drama', 'Animation, Adventure, Family', 'Drama, War', 'Crime, Drama, Fantasy', 'Comedy, Drama, Romance', 'Crime, Drama, Mystery', 'Crime, Drama, Thriller', 'Action, Adventure, Fantasy', 'Action, Adventure, Drama', 'Drama, Family, Fantasy', 'Crime, Drama, Thriller', 'Drama, Music', 'Biography, Comedy, Drama', 'Drama, Mystery, Sci-Fi', 'Crime, Drama, Thriller', 'Biography, Drama, Music', 'Action, Adventure, Drama', 'Drama', 'Crime, Mystery, Thriller', 'Action, Crime, Drama', 'Animation, Adventure, Drama', 'Action, Sci-Fi', 'Drama', 'Animation, Drama, War', 'Adventure, Comedy, Sci-Fi', 'Drama, Musical', 'Western', 'Horror, Mystery, Thriller']\n"
     ]
    }
   ],
   "source": [
    "title_content = soup.find('div', class_='lister-list')\n",
    "genre = title_content.find_all('span', class_= 'genre')\n",
    "#genre[0].text.strip()\n",
    "final_genre = []\n",
    "for g in genre:\n",
    "    words = g.text.strip()\n",
    "    final_genre.append(words)\n",
    "print(len(final_genre), final_genre)"
   ]
  },
  {
   "cell_type": "markdown",
   "metadata": {},
   "source": [
    "**Retrieve Genre Function**\n"
   ]
  },
  {
   "cell_type": "code",
   "execution_count": 10,
   "metadata": {},
   "outputs": [],
   "source": [
    "def retrieve_genre(soup):\n",
    "    title_content = soup.find('div', class_='lister-list')\n",
    "    genre = title_content.find_all('span', class_= 'genre')\n",
    "\n",
    "    final_genre = []\n",
    "    for g in genre:\n",
    "        words = g.text.strip()\n",
    "        final_genre.append(words)\n",
    "    return final_genre"
   ]
  },
  {
   "cell_type": "code",
   "execution_count": 11,
   "metadata": {},
   "outputs": [
    {
     "data": {
      "text/plain": [
       "['Drama',\n",
       " 'Crime, Drama',\n",
       " 'Action, Crime, Drama',\n",
       " 'Crime, Drama',\n",
       " 'Action, Adventure, Drama',\n",
       " 'Crime, Drama',\n",
       " 'Biography, Drama, History',\n",
       " 'Crime, Drama',\n",
       " 'Biography, Drama, History',\n",
       " 'Action, Adventure, Sci-Fi',\n",
       " 'Drama',\n",
       " 'Action, Adventure, Drama',\n",
       " 'Drama, Romance',\n",
       " 'Western',\n",
       " 'Action, Adventure, Drama',\n",
       " 'Action, Sci-Fi',\n",
       " 'Biography, Crime, Drama',\n",
       " 'Action, Adventure, Fantasy',\n",
       " 'Drama',\n",
       " 'Action, Drama, Mystery',\n",
       " 'Comedy, Drama, Thriller',\n",
       " 'Adventure, Drama, Sci-Fi',\n",
       " 'Crime, Drama',\n",
       " 'Animation, Adventure, Family',\n",
       " 'Drama, War',\n",
       " 'Crime, Drama, Fantasy',\n",
       " 'Comedy, Drama, Romance',\n",
       " 'Crime, Drama, Mystery',\n",
       " 'Crime, Drama, Thriller',\n",
       " 'Action, Adventure, Fantasy',\n",
       " 'Action, Adventure, Drama',\n",
       " 'Drama, Family, Fantasy',\n",
       " 'Crime, Drama, Thriller',\n",
       " 'Drama, Music',\n",
       " 'Biography, Comedy, Drama',\n",
       " 'Drama, Mystery, Sci-Fi',\n",
       " 'Crime, Drama, Thriller',\n",
       " 'Biography, Drama, Music',\n",
       " 'Action, Adventure, Drama',\n",
       " 'Drama',\n",
       " 'Crime, Mystery, Thriller',\n",
       " 'Action, Crime, Drama',\n",
       " 'Animation, Adventure, Drama',\n",
       " 'Action, Sci-Fi',\n",
       " 'Drama',\n",
       " 'Animation, Drama, War',\n",
       " 'Adventure, Comedy, Sci-Fi',\n",
       " 'Drama, Musical',\n",
       " 'Western',\n",
       " 'Horror, Mystery, Thriller']"
      ]
     },
     "execution_count": 11,
     "metadata": {},
     "output_type": "execute_result"
    }
   ],
   "source": [
    "#testing the function \n",
    "retrieve_genre(soup)"
   ]
  },
  {
   "cell_type": "markdown",
   "metadata": {},
   "source": [
    "**Extracting the Movie Certification(ex: R, PG-13)**"
   ]
  },
  {
   "cell_type": "code",
   "execution_count": 12,
   "metadata": {},
   "outputs": [
    {
     "name": "stdout",
     "output_type": "stream",
     "text": [
      "50 ['R', 'R', 'PG-13', 'R', 'PG-13', 'R', 'R', 'Approved', 'PG-13', 'PG-13', 'R', 'PG-13', 'PG-13', 'R', 'PG-13', 'R', 'R', 'PG', 'R', 'Not Rated', 'R', 'PG-13', 'R', 'PG', 'R', 'R', 'PG-13', 'R', 'R', 'PG', 'Not Rated', 'PG', 'R', 'R', 'R', 'PG-13', 'R', 'R', 'R', 'R', 'R', 'R', 'G', 'R', 'R', 'Not Rated', 'PG', 'Not Rated', 'PG-13', 'R']\n"
     ]
    }
   ],
   "source": [
    "title_content = soup.find('div', class_='lister-list')\n",
    "rating = title_content.find_all('span', class_= 'certificate')\n",
    "\n",
    "certification = []\n",
    "for p in rating:\n",
    "    new_rating = p.text\n",
    "    certification.append(new_rating)\n",
    "    \n",
    "print (len(certification), certification)"
   ]
  },
  {
   "cell_type": "markdown",
   "metadata": {},
   "source": [
    "**Retrieve Movie Certification Function**\n"
   ]
  },
  {
   "cell_type": "code",
   "execution_count": 13,
   "metadata": {},
   "outputs": [],
   "source": [
    "def retrieve_cert(soup):\n",
    "    title_content = soup.find('div', class_='lister-list')\n",
    "    rating = title_content.find_all('span', class_= 'certificate')\n",
    "    certification = []\n",
    "    for p in rating:\n",
    "        new_rating = p.text\n",
    "        certification.append(new_rating)\n",
    "    \n",
    "    return certification"
   ]
  },
  {
   "cell_type": "code",
   "execution_count": 14,
   "metadata": {},
   "outputs": [
    {
     "data": {
      "text/plain": [
       "['R',\n",
       " 'R',\n",
       " 'PG-13',\n",
       " 'R',\n",
       " 'PG-13',\n",
       " 'R',\n",
       " 'R',\n",
       " 'Approved',\n",
       " 'PG-13',\n",
       " 'PG-13',\n",
       " 'R',\n",
       " 'PG-13',\n",
       " 'PG-13',\n",
       " 'R',\n",
       " 'PG-13',\n",
       " 'R',\n",
       " 'R',\n",
       " 'PG',\n",
       " 'R',\n",
       " 'Not Rated',\n",
       " 'R',\n",
       " 'PG-13',\n",
       " 'R',\n",
       " 'PG',\n",
       " 'R',\n",
       " 'R',\n",
       " 'PG-13',\n",
       " 'R',\n",
       " 'R',\n",
       " 'PG',\n",
       " 'Not Rated',\n",
       " 'PG',\n",
       " 'R',\n",
       " 'R',\n",
       " 'R',\n",
       " 'PG-13',\n",
       " 'R',\n",
       " 'R',\n",
       " 'R',\n",
       " 'R',\n",
       " 'R',\n",
       " 'R',\n",
       " 'G',\n",
       " 'R',\n",
       " 'R',\n",
       " 'Not Rated',\n",
       " 'PG',\n",
       " 'Not Rated',\n",
       " 'PG-13',\n",
       " 'R']"
      ]
     },
     "execution_count": 14,
     "metadata": {},
     "output_type": "execute_result"
    }
   ],
   "source": [
    "#testing the function \n",
    "retrieve_cert(soup)"
   ]
  },
  {
   "cell_type": "markdown",
   "metadata": {},
   "source": [
    "**Extracting the Movie IMDB Rating**"
   ]
  },
  {
   "cell_type": "code",
   "execution_count": 15,
   "metadata": {},
   "outputs": [
    {
     "name": "stdout",
     "output_type": "stream",
     "text": [
      "50 ['9.3', '9.2', '9.0', '9.0', '8.9', '8.9', '8.9', '8.9', '8.8', '8.8', '8.8', '8.8', '8.8', '8.8', '8.7', '8.7', '8.7', '8.7', '8.7', '8.7', '8.6', '8.6', '8.6', '8.6', '8.6', '8.6', '8.6', '8.6', '8.6', '8.6', '8.6', '8.6', '8.5', '8.5', '8.5', '8.5', '8.5', '8.5', '8.5', '8.5', '8.5', '8.5', '8.5', '8.5', '8.5', '8.5', '8.5', '8.5', '8.5', '8.5']\n"
     ]
    }
   ],
   "source": [
    "title_content = soup.find('div', class_='lister-list')\n",
    "imdb = title_content.find_all('div', class_='inline-block ratings-imdb-rating')\n",
    "#imdb[0].text.replace('\\n', \"\")\n",
    "\n",
    "imdb_rating = []\n",
    "for rate in imdb:\n",
    "    rating = rate.text.strip()\n",
    "    imdb_rating.append(rating)\n",
    "print (len(imdb_rating), imdb_rating)"
   ]
  },
  {
   "cell_type": "markdown",
   "metadata": {},
   "source": [
    "**Retrieve Movie IMDB Rating Function**\n"
   ]
  },
  {
   "cell_type": "code",
   "execution_count": 16,
   "metadata": {},
   "outputs": [],
   "source": [
    "def retrieve_imdb(soup):\n",
    "    title_content = soup.find('div', class_='lister-list')\n",
    "    imdb = title_content.find_all('div', class_='inline-block ratings-imdb-rating')\n",
    "    \n",
    "    imdb_rating = []\n",
    "    for rate in imdb:\n",
    "        rating = rate.text.strip()\n",
    "        imdb_rating.append(rating)\n",
    "    return imdb_rating"
   ]
  },
  {
   "cell_type": "code",
   "execution_count": 17,
   "metadata": {},
   "outputs": [
    {
     "data": {
      "text/plain": [
       "['9.3',\n",
       " '9.2',\n",
       " '9.0',\n",
       " '9.0',\n",
       " '8.9',\n",
       " '8.9',\n",
       " '8.9',\n",
       " '8.9',\n",
       " '8.8',\n",
       " '8.8',\n",
       " '8.8',\n",
       " '8.8',\n",
       " '8.8',\n",
       " '8.8',\n",
       " '8.7',\n",
       " '8.7',\n",
       " '8.7',\n",
       " '8.7',\n",
       " '8.7',\n",
       " '8.7',\n",
       " '8.6',\n",
       " '8.6',\n",
       " '8.6',\n",
       " '8.6',\n",
       " '8.6',\n",
       " '8.6',\n",
       " '8.6',\n",
       " '8.6',\n",
       " '8.6',\n",
       " '8.6',\n",
       " '8.6',\n",
       " '8.6',\n",
       " '8.5',\n",
       " '8.5',\n",
       " '8.5',\n",
       " '8.5',\n",
       " '8.5',\n",
       " '8.5',\n",
       " '8.5',\n",
       " '8.5',\n",
       " '8.5',\n",
       " '8.5',\n",
       " '8.5',\n",
       " '8.5',\n",
       " '8.5',\n",
       " '8.5',\n",
       " '8.5',\n",
       " '8.5',\n",
       " '8.5',\n",
       " '8.5']"
      ]
     },
     "execution_count": 17,
     "metadata": {},
     "output_type": "execute_result"
    }
   ],
   "source": [
    "#testing the function \n",
    "retrieve_imdb(soup)"
   ]
  },
  {
   "cell_type": "markdown",
   "metadata": {},
   "source": [
    "**Extracting the Director**"
   ]
  },
  {
   "cell_type": "code",
   "execution_count": 18,
   "metadata": {},
   "outputs": [
    {
     "name": "stdout",
     "output_type": "stream",
     "text": [
      "['Frank Darabont', 'Francis Ford Coppola', 'Christopher Nolan', 'Francis Ford Coppola', 'Peter Jackson', 'Quentin Tarantino', 'Steven Spielberg', 'Sidney Lumet', 'Thomas Kail', 'Christopher Nolan', 'David Fincher', 'Peter Jackson', 'Robert Zemeckis', 'Sergio Leone', 'Peter Jackson', 'Lana Wachowski', 'Martin Scorsese', 'Irvin Kershner', 'Milos Forman', 'Masaki Kobayashi', 'Bong Joon Ho', 'Christopher Nolan', 'Fernando Meirelles', 'Hayao Miyazaki', 'Steven Spielberg', 'Frank Darabont', 'Roberto Benigni', 'David Fincher', 'Jonathan Demme', 'George Lucas', 'Akira Kurosawa', 'Frank Capra', 'Todd Phillips', 'Damien Chazelle', 'Olivier Nakache', 'Christopher Nolan', 'Martin Scorsese', 'Roman Polanski', 'Ridley Scott', 'Tony Kaye', 'Bryan Singer', 'Luc Besson', 'Roger Allers', 'James Cameron', 'Giuseppe Tornatore', 'Isao Takahata', 'Robert Zemeckis', 'Hrishikesh Mukherjee', 'Sergio Leone', 'Alfred Hitchcock']\n"
     ]
    }
   ],
   "source": [
    "title_content = soup.find('div', class_='lister-list')\n",
    "director = title_content.find_all('p', class_=\"\")\n",
    "#director[0].find('a').text\n",
    "final_directors = []\n",
    "for person in director:\n",
    "    final = person.find('a').text\n",
    "    final_directors.append(final)\n",
    "print(final_directors)"
   ]
  },
  {
   "cell_type": "markdown",
   "metadata": {},
   "source": [
    "**Retrieve Movie Director Function**"
   ]
  },
  {
   "cell_type": "code",
   "execution_count": 19,
   "metadata": {},
   "outputs": [],
   "source": [
    "def retrieve_director(soup):\n",
    "    title_content = soup.find('div', class_='lister-list')\n",
    "    director = title_content.find_all('p', class_=\"\")\n",
    "\n",
    "    final_directors = []\n",
    "    for person in director:\n",
    "        final = person.find('a').text\n",
    "        final_directors.append(final)\n",
    "    return final_directors"
   ]
  },
  {
   "cell_type": "code",
   "execution_count": 20,
   "metadata": {},
   "outputs": [
    {
     "data": {
      "text/plain": [
       "['Frank Darabont',\n",
       " 'Francis Ford Coppola',\n",
       " 'Christopher Nolan',\n",
       " 'Francis Ford Coppola',\n",
       " 'Peter Jackson',\n",
       " 'Quentin Tarantino',\n",
       " 'Steven Spielberg',\n",
       " 'Sidney Lumet',\n",
       " 'Thomas Kail',\n",
       " 'Christopher Nolan',\n",
       " 'David Fincher',\n",
       " 'Peter Jackson',\n",
       " 'Robert Zemeckis',\n",
       " 'Sergio Leone',\n",
       " 'Peter Jackson',\n",
       " 'Lana Wachowski',\n",
       " 'Martin Scorsese',\n",
       " 'Irvin Kershner',\n",
       " 'Milos Forman',\n",
       " 'Masaki Kobayashi',\n",
       " 'Bong Joon Ho',\n",
       " 'Christopher Nolan',\n",
       " 'Fernando Meirelles',\n",
       " 'Hayao Miyazaki',\n",
       " 'Steven Spielberg',\n",
       " 'Frank Darabont',\n",
       " 'Roberto Benigni',\n",
       " 'David Fincher',\n",
       " 'Jonathan Demme',\n",
       " 'George Lucas',\n",
       " 'Akira Kurosawa',\n",
       " 'Frank Capra',\n",
       " 'Todd Phillips',\n",
       " 'Damien Chazelle',\n",
       " 'Olivier Nakache',\n",
       " 'Christopher Nolan',\n",
       " 'Martin Scorsese',\n",
       " 'Roman Polanski',\n",
       " 'Ridley Scott',\n",
       " 'Tony Kaye',\n",
       " 'Bryan Singer',\n",
       " 'Luc Besson',\n",
       " 'Roger Allers',\n",
       " 'James Cameron',\n",
       " 'Giuseppe Tornatore',\n",
       " 'Isao Takahata',\n",
       " 'Robert Zemeckis',\n",
       " 'Hrishikesh Mukherjee',\n",
       " 'Sergio Leone',\n",
       " 'Alfred Hitchcock']"
      ]
     },
     "execution_count": 20,
     "metadata": {},
     "output_type": "execute_result"
    }
   ],
   "source": [
    "#testing the function \n",
    "retrieve_director(soup)"
   ]
  },
  {
   "cell_type": "markdown",
   "metadata": {},
   "source": [
    "**Extracting the Domestic Gross in Millions**"
   ]
  },
  {
   "cell_type": "code",
   "execution_count": 21,
   "metadata": {},
   "outputs": [
    {
     "name": "stdout",
     "output_type": "stream",
     "text": [
      "['$28.34M', '$134.97M', '$534.86M', '$57.30M', '$377.85M', '$107.93M', '$96.90M', '$4.36M', '31,930', '$292.58M', '$37.03M', '$315.54M', '$330.25M', '$6.10M', '$342.55M', '$171.48M', '$46.84M', '$290.48M', '$112.00M', '36,545', '$53.37M', '$188.02M', '$7.56M', '$10.06M', '$216.54M', '$136.80M', '$57.60M', '$100.13M', '$130.74M', '$322.74M', '$0.27M', '386,938', '$335.45M', '$13.09M', '$13.18M', '$53.09M', '$132.38M', '$32.57M', '$187.71M', '$6.72M', '$23.34M', '$19.50M', '$422.78M', '$204.84M', '$11.99M', '223,800', '$210.61M', '27,673', '$5.32M', '$32.00M']\n"
     ]
    }
   ],
   "source": [
    "title_content = soup.find('div', class_='lister-list')\n",
    "gross = title_content.find_all('p', class_='sort-num_votes-visible')\n",
    "\n",
    "final_gross = []\n",
    "for money in gross: \n",
    "    final = money.find_all('span')\n",
    "    final = final[-1].text\n",
    "    final_gross.append(final)\n",
    "print(final_gross)"
   ]
  },
  {
   "cell_type": "markdown",
   "metadata": {},
   "source": [
    "**Retrieve Domestic Gross Function**"
   ]
  },
  {
   "cell_type": "code",
   "execution_count": 44,
   "metadata": {},
   "outputs": [],
   "source": [
    "\n",
    "def retrieve_domestic(soup):\n",
    "    \"\"\"Retriving domestic gross from soup\"\"\"\n",
    "    title_content = soup.find('div', class_='lister-list')\n",
    "    gross = title_content.find_all('p', class_='sort-num_votes-visible')\n",
    "\n",
    "    final_gross = []\n",
    "    for money in gross: \n",
    "        final = money.find_all('span')\n",
    "        final = final[-1].text\n",
    "        final_gross.append(final)\n",
    "    return final_gross"
   ]
  },
  {
   "cell_type": "code",
   "execution_count": 23,
   "metadata": {},
   "outputs": [
    {
     "data": {
      "text/plain": [
       "['$28.34M',\n",
       " '$134.97M',\n",
       " '$534.86M',\n",
       " '$57.30M',\n",
       " '$377.85M',\n",
       " '$107.93M',\n",
       " '$96.90M',\n",
       " '$4.36M',\n",
       " '31,930',\n",
       " '$292.58M',\n",
       " '$37.03M',\n",
       " '$315.54M',\n",
       " '$330.25M',\n",
       " '$6.10M',\n",
       " '$342.55M',\n",
       " '$171.48M',\n",
       " '$46.84M',\n",
       " '$290.48M',\n",
       " '$112.00M',\n",
       " '36,545',\n",
       " '$53.37M',\n",
       " '$188.02M',\n",
       " '$7.56M',\n",
       " '$10.06M',\n",
       " '$216.54M',\n",
       " '$136.80M',\n",
       " '$57.60M',\n",
       " '$100.13M',\n",
       " '$130.74M',\n",
       " '$322.74M',\n",
       " '$0.27M',\n",
       " '386,938',\n",
       " '$335.45M',\n",
       " '$13.09M',\n",
       " '$13.18M',\n",
       " '$53.09M',\n",
       " '$132.38M',\n",
       " '$32.57M',\n",
       " '$187.71M',\n",
       " '$6.72M',\n",
       " '$23.34M',\n",
       " '$19.50M',\n",
       " '$422.78M',\n",
       " '$204.84M',\n",
       " '$11.99M',\n",
       " '223,800',\n",
       " '$210.61M',\n",
       " '27,673',\n",
       " '$5.32M',\n",
       " '$32.00M']"
      ]
     },
     "execution_count": 23,
     "metadata": {},
     "output_type": "execute_result"
    }
   ],
   "source": [
    "#testing the function \n",
    "retrieve_domestic(soup)"
   ]
  },
  {
   "cell_type": "markdown",
   "metadata": {},
   "source": [
    "## Creating a code to retrieve all the data from all the movies listed from all the pages"
   ]
  },
  {
   "cell_type": "code",
   "execution_count": 24,
   "metadata": {},
   "outputs": [],
   "source": [
    "#importing the neccessary packages to complete the process\n",
    "import pandas as pd\n",
    "import requests\n",
    "from bs4 import BeautifulSoup"
   ]
  },
  {
   "cell_type": "code",
   "execution_count": 25,
   "metadata": {},
   "outputs": [
    {
     "name": "stdout",
     "output_type": "stream",
     "text": [
      "250\n"
     ]
    },
    {
     "data": {
      "text/html": [
       "<div>\n",
       "<style scoped>\n",
       "    .dataframe tbody tr th:only-of-type {\n",
       "        vertical-align: middle;\n",
       "    }\n",
       "\n",
       "    .dataframe tbody tr th {\n",
       "        vertical-align: top;\n",
       "    }\n",
       "\n",
       "    .dataframe thead th {\n",
       "        text-align: right;\n",
       "    }\n",
       "</style>\n",
       "<table border=\"1\" class=\"dataframe\">\n",
       "  <thead>\n",
       "    <tr style=\"text-align: right;\">\n",
       "      <th></th>\n",
       "      <th>Title</th>\n",
       "      <th>Year_Released</th>\n",
       "      <th>Genres</th>\n",
       "      <th>Movie_Rating</th>\n",
       "      <th>IMDB_Rating</th>\n",
       "      <th>Director</th>\n",
       "      <th>Domestic_Gross(millions)</th>\n",
       "    </tr>\n",
       "  </thead>\n",
       "  <tbody>\n",
       "    <tr>\n",
       "      <th>0</th>\n",
       "      <td>The Shawshank Redemption</td>\n",
       "      <td>1994</td>\n",
       "      <td>Drama</td>\n",
       "      <td>R</td>\n",
       "      <td>9.3</td>\n",
       "      <td>Frank Darabont</td>\n",
       "      <td>$28.34M</td>\n",
       "    </tr>\n",
       "    <tr>\n",
       "      <th>1</th>\n",
       "      <td>The Godfather</td>\n",
       "      <td>1972</td>\n",
       "      <td>Crime, Drama</td>\n",
       "      <td>R</td>\n",
       "      <td>9.2</td>\n",
       "      <td>Francis Ford Coppola</td>\n",
       "      <td>$134.97M</td>\n",
       "    </tr>\n",
       "    <tr>\n",
       "      <th>2</th>\n",
       "      <td>The Dark Knight</td>\n",
       "      <td>2008</td>\n",
       "      <td>Action, Crime, Drama</td>\n",
       "      <td>PG-13</td>\n",
       "      <td>9.0</td>\n",
       "      <td>Christopher Nolan</td>\n",
       "      <td>$534.86M</td>\n",
       "    </tr>\n",
       "    <tr>\n",
       "      <th>3</th>\n",
       "      <td>The Godfather: Part II</td>\n",
       "      <td>1974</td>\n",
       "      <td>Crime, Drama</td>\n",
       "      <td>R</td>\n",
       "      <td>9.0</td>\n",
       "      <td>Francis Ford Coppola</td>\n",
       "      <td>$57.30M</td>\n",
       "    </tr>\n",
       "    <tr>\n",
       "      <th>4</th>\n",
       "      <td>The Lord of the Rings: The Return of the King</td>\n",
       "      <td>2003</td>\n",
       "      <td>Action, Adventure, Drama</td>\n",
       "      <td>PG-13</td>\n",
       "      <td>8.9</td>\n",
       "      <td>Peter Jackson</td>\n",
       "      <td>$377.85M</td>\n",
       "    </tr>\n",
       "  </tbody>\n",
       "</table>\n",
       "</div>"
      ],
      "text/plain": [
       "                                           Title Year_Released  \\\n",
       "0                       The Shawshank Redemption          1994   \n",
       "1                                  The Godfather          1972   \n",
       "2                                The Dark Knight          2008   \n",
       "3                         The Godfather: Part II          1974   \n",
       "4  The Lord of the Rings: The Return of the King          2003   \n",
       "\n",
       "                     Genres Movie_Rating IMDB_Rating              Director  \\\n",
       "0                     Drama            R         9.3        Frank Darabont   \n",
       "1              Crime, Drama            R         9.2  Francis Ford Coppola   \n",
       "2      Action, Crime, Drama        PG-13         9.0     Christopher Nolan   \n",
       "3              Crime, Drama            R         9.0  Francis Ford Coppola   \n",
       "4  Action, Adventure, Drama        PG-13         8.9         Peter Jackson   \n",
       "\n",
       "  Domestic_Gross(millions)  \n",
       "0                  $28.34M  \n",
       "1                 $134.97M  \n",
       "2                 $534.86M  \n",
       "3                  $57.30M  \n",
       "4                 $377.85M  "
      ]
     },
     "metadata": {},
     "output_type": "display_data"
    },
    {
     "data": {
      "text/html": [
       "<div>\n",
       "<style scoped>\n",
       "    .dataframe tbody tr th:only-of-type {\n",
       "        vertical-align: middle;\n",
       "    }\n",
       "\n",
       "    .dataframe tbody tr th {\n",
       "        vertical-align: top;\n",
       "    }\n",
       "\n",
       "    .dataframe thead th {\n",
       "        text-align: right;\n",
       "    }\n",
       "</style>\n",
       "<table border=\"1\" class=\"dataframe\">\n",
       "  <thead>\n",
       "    <tr style=\"text-align: right;\">\n",
       "      <th></th>\n",
       "      <th>Title</th>\n",
       "      <th>Year_Released</th>\n",
       "      <th>Genres</th>\n",
       "      <th>Movie_Rating</th>\n",
       "      <th>IMDB_Rating</th>\n",
       "      <th>Director</th>\n",
       "      <th>Domestic_Gross(millions)</th>\n",
       "    </tr>\n",
       "  </thead>\n",
       "  <tbody>\n",
       "    <tr>\n",
       "      <th>245</th>\n",
       "      <td>The General</td>\n",
       "      <td>1926</td>\n",
       "      <td>Action, Adventure, Comedy</td>\n",
       "      <td>R</td>\n",
       "      <td>8.1</td>\n",
       "      <td>Clyde Bruckman</td>\n",
       "      <td>$1.03M</td>\n",
       "    </tr>\n",
       "    <tr>\n",
       "      <th>246</th>\n",
       "      <td>The Help</td>\n",
       "      <td>2011</td>\n",
       "      <td>Drama</td>\n",
       "      <td>G</td>\n",
       "      <td>8.0</td>\n",
       "      <td>Tate Taylor</td>\n",
       "      <td>$169.71M</td>\n",
       "    </tr>\n",
       "    <tr>\n",
       "      <th>247</th>\n",
       "      <td>Before Sunset</td>\n",
       "      <td>2004</td>\n",
       "      <td>Drama, Romance</td>\n",
       "      <td>R</td>\n",
       "      <td>8.0</td>\n",
       "      <td>Richard Linklater</td>\n",
       "      <td>$5.82M</td>\n",
       "    </tr>\n",
       "    <tr>\n",
       "      <th>248</th>\n",
       "      <td>Monster</td>\n",
       "      <td>2001</td>\n",
       "      <td>Animation, Adventure, Comedy</td>\n",
       "      <td>None</td>\n",
       "      <td>8.0</td>\n",
       "      <td>Pete Docter</td>\n",
       "      <td>$289.92M</td>\n",
       "    </tr>\n",
       "    <tr>\n",
       "      <th>249</th>\n",
       "      <td>The Terminator</td>\n",
       "      <td>1984</td>\n",
       "      <td>Action, Sci-Fi</td>\n",
       "      <td>None</td>\n",
       "      <td>8.0</td>\n",
       "      <td>James Cameron</td>\n",
       "      <td>$38.40M</td>\n",
       "    </tr>\n",
       "  </tbody>\n",
       "</table>\n",
       "</div>"
      ],
      "text/plain": [
       "              Title Year_Released                        Genres Movie_Rating  \\\n",
       "245     The General          1926     Action, Adventure, Comedy            R   \n",
       "246        The Help          2011                         Drama            G   \n",
       "247   Before Sunset          2004                Drama, Romance            R   \n",
       "248         Monster          2001  Animation, Adventure, Comedy         None   \n",
       "249  The Terminator          1984                Action, Sci-Fi         None   \n",
       "\n",
       "    IMDB_Rating           Director Domestic_Gross(millions)  \n",
       "245         8.1     Clyde Bruckman                   $1.03M  \n",
       "246         8.0        Tate Taylor                 $169.71M  \n",
       "247         8.0  Richard Linklater                   $5.82M  \n",
       "248         8.0        Pete Docter                 $289.92M  \n",
       "249         8.0      James Cameron                  $38.40M  "
      ]
     },
     "execution_count": 25,
     "metadata": {},
     "output_type": "execute_result"
    }
   ],
   "source": [
    "#created a list for each category and created a for loop to iterate through and retrieve the information from the web\n",
    "movie_titles = []\n",
    "year_released = []\n",
    "genres = []\n",
    "certification = []\n",
    "imdb_rating = []\n",
    "director = []\n",
    "dom_gross = []\n",
    "url = [\"https://www.imdb.com/search/title/?groups=top_250&sort=user_rating\", \n",
    "                'https://www.imdb.com/search/title/?groups=top_250&sort=user_rating,desc&start=51&ref_=adv_nxt',\n",
    "                'https://www.imdb.com/search/title/?groups=top_250&sort=user_rating,desc&start=101&ref_=adv_nxt',\n",
    "                'https://www.imdb.com/search/title/?groups=top_250&sort=user_rating,desc&start=151&ref_=adv_nxt',\n",
    "                'https://www.imdb.com/search/title/?groups=top_250&sort=user_rating,desc&start=201&ref_=adv_nxt',]\n",
    "\n",
    "for i in url:      \n",
    "\n",
    "    response = requests.get(i)\n",
    "    soup = BeautifulSoup(response.content, 'html.parser')\n",
    "    movie_titles += retrieve_movietitle(soup)\n",
    "    year_released += retrieve_year(soup)\n",
    "    genres += retrieve_genre(soup)\n",
    "    certification += retrieve_cert(soup)\n",
    "    imdb_rating += retrieve_imdb(soup)\n",
    "    director += retrieve_director(soup)\n",
    "    dom_gross += retrieve_domestic(soup)\n",
    "        \n",
    "df = pd.DataFrame([movie_titles, year_released, genres, certification, imdb_rating, director, dom_gross]).transpose()\n",
    "df.columns = ['Title', 'Year_Released', 'Genres', 'Movie_Rating', 'IMDB_Rating', 'Director', 'Domestic_Gross(millions)']\n",
    "print (len(df))\n",
    "display (df.head())\n",
    "df.tail()"
   ]
  },
  {
   "cell_type": "code",
   "execution_count": 26,
   "metadata": {},
   "outputs": [
    {
     "data": {
      "text/plain": [
       "Title                       object\n",
       "Year_Released               object\n",
       "Genres                      object\n",
       "Movie_Rating                object\n",
       "IMDB_Rating                 object\n",
       "Director                    object\n",
       "Domestic_Gross(millions)    object\n",
       "dtype: object"
      ]
     },
     "execution_count": 26,
     "metadata": {},
     "output_type": "execute_result"
    }
   ],
   "source": [
    "#checking data types \n",
    "df.dtypes"
   ]
  },
  {
   "cell_type": "markdown",
   "metadata": {},
   "source": [
    "## **Creating Graphs from the Data Set** "
   ]
  },
  {
   "cell_type": "markdown",
   "metadata": {},
   "source": [
    "**Comparing IMDB Ratings with Directors**\n",
    "\n",
    "Horizontal bar graph\n",
    "\n",
    "x= average imdb ratings y = directors\n",
    "\n"
   ]
  },
  {
   "cell_type": "code",
   "execution_count": 37,
   "metadata": {},
   "outputs": [
    {
     "data": {
      "image/png": "[encoded data removed]",
      "text/plain": [
       "<Figure size 720x720 with 1 Axes>"
      ]
     },
     "metadata": {
      "needs_background": "light"
     },
     "output_type": "display_data"
    }
   ],
   "source": [
    "#importing ploting package and 'inline' to preview graph within our code\n",
    "import matplotlib.pyplot as plt\n",
    "%matplotlib inline\n",
    "#converted IMDB_Rating type to a float, originally an object \n",
    "df['IMDB_Rating'] = df['IMDB_Rating'].astype('float')\n",
    "#created a variable, set index to director and sorted values\n",
    "top_35 = df.set_index('Director').sort_values(\"IMDB_Rating\", ascending=True).tail(35)\n",
    "\n",
    "plt.figure(figsize=(10,10))\n",
    "chart = top_35['IMDB_Rating'].plot(kind='barh', colormap ='autumn')\n",
    "font_dict = {'family': 'serif', 'size':20}\n",
    "plt.xlabel('IMDB Rating', fontdict=font_dict)\n",
    "plt.ylabel('Directors', fontdict=font_dict)\n",
    "plt.tick_params(axis='both', labelsize=12)\n",
    "plt.title('Directors with Highest IMDB Rating', fontdict=font_dict)\n",
    "plt.xlim(7.5,9.5)\n",
    "plt.show()"
   ]
  },
  {
   "cell_type": "markdown",
   "metadata": {},
   "source": [
    "**1. Quantity of each type of certification**\n",
    "\n",
    "Created a table and a graph\n",
    "\n",
    "**2. Movie Certification vs IMDB Ratings**\n",
    "\n",
    "Created a table and a graph"
   ]
  },
  {
   "cell_type": "code",
   "execution_count": 38,
   "metadata": {},
   "outputs": [
    {
     "name": "stderr",
     "output_type": "stream",
     "text": [
      "/Users/Hiten.K.Patel/opt/anaconda3/envs/learn-env/lib/python3.6/site-packages/statsmodels/tools/_testing.py:19: FutureWarning: pandas.util.testing is deprecated. Use the functions in the public API at pandas.testing instead.\n",
      "  import pandas.util.testing as tm\n"
     ]
    },
    {
     "data": {
      "text/html": [
       "<div>\n",
       "<style scoped>\n",
       "    .dataframe tbody tr th:only-of-type {\n",
       "        vertical-align: middle;\n",
       "    }\n",
       "\n",
       "    .dataframe tbody tr th {\n",
       "        vertical-align: top;\n",
       "    }\n",
       "\n",
       "    .dataframe thead th {\n",
       "        text-align: right;\n",
       "    }\n",
       "</style>\n",
       "<table border=\"1\" class=\"dataframe\">\n",
       "  <thead>\n",
       "    <tr style=\"text-align: right;\">\n",
       "      <th></th>\n",
       "      <th>Title</th>\n",
       "      <th>Year_Released</th>\n",
       "      <th>Genres</th>\n",
       "      <th>IMDB_Rating</th>\n",
       "      <th>Director</th>\n",
       "      <th>Domestic_Gross(millions)</th>\n",
       "    </tr>\n",
       "    <tr>\n",
       "      <th>Movie_Rating</th>\n",
       "      <th></th>\n",
       "      <th></th>\n",
       "      <th></th>\n",
       "      <th></th>\n",
       "      <th></th>\n",
       "      <th></th>\n",
       "    </tr>\n",
       "  </thead>\n",
       "  <tbody>\n",
       "    <tr>\n",
       "      <th>Approved</th>\n",
       "      <td>11</td>\n",
       "      <td>11</td>\n",
       "      <td>11</td>\n",
       "      <td>11</td>\n",
       "      <td>11</td>\n",
       "      <td>11</td>\n",
       "    </tr>\n",
       "    <tr>\n",
       "      <th>G</th>\n",
       "      <td>13</td>\n",
       "      <td>13</td>\n",
       "      <td>13</td>\n",
       "      <td>13</td>\n",
       "      <td>13</td>\n",
       "      <td>13</td>\n",
       "    </tr>\n",
       "    <tr>\n",
       "      <th>GP</th>\n",
       "      <td>1</td>\n",
       "      <td>1</td>\n",
       "      <td>1</td>\n",
       "      <td>1</td>\n",
       "      <td>1</td>\n",
       "      <td>1</td>\n",
       "    </tr>\n",
       "    <tr>\n",
       "      <th>Not Rated</th>\n",
       "      <td>34</td>\n",
       "      <td>34</td>\n",
       "      <td>34</td>\n",
       "      <td>34</td>\n",
       "      <td>34</td>\n",
       "      <td>34</td>\n",
       "    </tr>\n",
       "    <tr>\n",
       "      <th>PG</th>\n",
       "      <td>35</td>\n",
       "      <td>35</td>\n",
       "      <td>35</td>\n",
       "      <td>35</td>\n",
       "      <td>35</td>\n",
       "      <td>35</td>\n",
       "    </tr>\n",
       "    <tr>\n",
       "      <th>PG-13</th>\n",
       "      <td>30</td>\n",
       "      <td>30</td>\n",
       "      <td>30</td>\n",
       "      <td>30</td>\n",
       "      <td>30</td>\n",
       "      <td>30</td>\n",
       "    </tr>\n",
       "    <tr>\n",
       "      <th>Passed</th>\n",
       "      <td>15</td>\n",
       "      <td>15</td>\n",
       "      <td>15</td>\n",
       "      <td>15</td>\n",
       "      <td>15</td>\n",
       "      <td>15</td>\n",
       "    </tr>\n",
       "    <tr>\n",
       "      <th>R</th>\n",
       "      <td>108</td>\n",
       "      <td>108</td>\n",
       "      <td>108</td>\n",
       "      <td>108</td>\n",
       "      <td>108</td>\n",
       "      <td>108</td>\n",
       "    </tr>\n",
       "    <tr>\n",
       "      <th>TV-MA</th>\n",
       "      <td>1</td>\n",
       "      <td>1</td>\n",
       "      <td>1</td>\n",
       "      <td>1</td>\n",
       "      <td>1</td>\n",
       "      <td>1</td>\n",
       "    </tr>\n",
       "  </tbody>\n",
       "</table>\n",
       "</div>"
      ],
      "text/plain": [
       "              Title  Year_Released  Genres  IMDB_Rating  Director  \\\n",
       "Movie_Rating                                                        \n",
       "Approved         11             11      11           11        11   \n",
       "G                13             13      13           13        13   \n",
       "GP                1              1       1            1         1   \n",
       "Not Rated        34             34      34           34        34   \n",
       "PG               35             35      35           35        35   \n",
       "PG-13            30             30      30           30        30   \n",
       "Passed           15             15      15           15        15   \n",
       "R               108            108     108          108       108   \n",
       "TV-MA             1              1       1            1         1   \n",
       "\n",
       "              Domestic_Gross(millions)  \n",
       "Movie_Rating                            \n",
       "Approved                            11  \n",
       "G                                   13  \n",
       "GP                                   1  \n",
       "Not Rated                           34  \n",
       "PG                                  35  \n",
       "PG-13                               30  \n",
       "Passed                              15  \n",
       "R                                  108  \n",
       "TV-MA                                1  "
      ]
     },
     "execution_count": 38,
     "metadata": {},
     "output_type": "execute_result"
    }
   ],
   "source": [
    "import seaborn as sns\n",
    "rating_count = df.groupby('Movie_Rating').count()\n",
    "rating_count"
   ]
  },
  {
   "cell_type": "code",
   "execution_count": 39,
   "metadata": {},
   "outputs": [
    {
     "data": {
      "image/png": "[encoded data removed]",
      "text/plain": [
       "<Figure size 720x720 with 1 Axes>"
      ]
     },
     "metadata": {
      "needs_background": "light"
     },
     "output_type": "display_data"
    }
   ],
   "source": [
    "in_order = ['R', 'PG', 'Not Rated', 'PG-13', 'Passed', 'G', 'Approved', 'GP', 'TV-MA']\n",
    "plt.figure(figsize=(10, 10))\n",
    "sns.countplot(x='Movie_Rating', order= in_order, data=df)\n",
    "font_dict = {'family': 'serif', 'size':24}\n",
    "plt.xlabel('Movie Certifications', fontdict=font_dict)\n",
    "plt.ylabel('Quantity', fontdict=font_dict)\n",
    "plt.title('Quantity of Movie Certifications', fontdict=font_dict)\n",
    "plt.tick_params(axis='both', labelsize=14)"
   ]
  },
  {
   "cell_type": "code",
   "execution_count": 40,
   "metadata": {},
   "outputs": [
    {
     "data": {
      "text/html": [
       "<div>\n",
       "<style scoped>\n",
       "    .dataframe tbody tr th:only-of-type {\n",
       "        vertical-align: middle;\n",
       "    }\n",
       "\n",
       "    .dataframe tbody tr th {\n",
       "        vertical-align: top;\n",
       "    }\n",
       "\n",
       "    .dataframe thead tr th {\n",
       "        text-align: left;\n",
       "    }\n",
       "\n",
       "    .dataframe thead tr:last-of-type th {\n",
       "        text-align: right;\n",
       "    }\n",
       "</style>\n",
       "<table border=\"1\" class=\"dataframe\">\n",
       "  <thead>\n",
       "    <tr>\n",
       "      <th></th>\n",
       "      <th colspan=\"8\" halign=\"left\">IMDB_Rating</th>\n",
       "    </tr>\n",
       "    <tr>\n",
       "      <th></th>\n",
       "      <th>count</th>\n",
       "      <th>mean</th>\n",
       "      <th>std</th>\n",
       "      <th>min</th>\n",
       "      <th>25%</th>\n",
       "      <th>50%</th>\n",
       "      <th>75%</th>\n",
       "      <th>max</th>\n",
       "    </tr>\n",
       "    <tr>\n",
       "      <th>Movie_Rating</th>\n",
       "      <th></th>\n",
       "      <th></th>\n",
       "      <th></th>\n",
       "      <th></th>\n",
       "      <th></th>\n",
       "      <th></th>\n",
       "      <th></th>\n",
       "      <th></th>\n",
       "    </tr>\n",
       "  </thead>\n",
       "  <tbody>\n",
       "    <tr>\n",
       "      <th>Approved</th>\n",
       "      <td>11.0</td>\n",
       "      <td>8.281818</td>\n",
       "      <td>0.235874</td>\n",
       "      <td>8.1</td>\n",
       "      <td>8.100</td>\n",
       "      <td>8.2</td>\n",
       "      <td>8.35</td>\n",
       "      <td>8.9</td>\n",
       "    </tr>\n",
       "    <tr>\n",
       "      <th>G</th>\n",
       "      <td>13.0</td>\n",
       "      <td>8.276923</td>\n",
       "      <td>0.169085</td>\n",
       "      <td>8.0</td>\n",
       "      <td>8.100</td>\n",
       "      <td>8.3</td>\n",
       "      <td>8.40</td>\n",
       "      <td>8.5</td>\n",
       "    </tr>\n",
       "    <tr>\n",
       "      <th>GP</th>\n",
       "      <td>1.0</td>\n",
       "      <td>8.100000</td>\n",
       "      <td>NaN</td>\n",
       "      <td>8.1</td>\n",
       "      <td>8.100</td>\n",
       "      <td>8.1</td>\n",
       "      <td>8.10</td>\n",
       "      <td>8.1</td>\n",
       "    </tr>\n",
       "    <tr>\n",
       "      <th>Not Rated</th>\n",
       "      <td>34.0</td>\n",
       "      <td>8.247059</td>\n",
       "      <td>0.150223</td>\n",
       "      <td>8.1</td>\n",
       "      <td>8.125</td>\n",
       "      <td>8.2</td>\n",
       "      <td>8.30</td>\n",
       "      <td>8.7</td>\n",
       "    </tr>\n",
       "    <tr>\n",
       "      <th>PG</th>\n",
       "      <td>35.0</td>\n",
       "      <td>8.285714</td>\n",
       "      <td>0.180103</td>\n",
       "      <td>8.1</td>\n",
       "      <td>8.100</td>\n",
       "      <td>8.3</td>\n",
       "      <td>8.40</td>\n",
       "      <td>8.7</td>\n",
       "    </tr>\n",
       "    <tr>\n",
       "      <th>PG-13</th>\n",
       "      <td>30.0</td>\n",
       "      <td>8.406667</td>\n",
       "      <td>0.283978</td>\n",
       "      <td>8.1</td>\n",
       "      <td>8.125</td>\n",
       "      <td>8.4</td>\n",
       "      <td>8.60</td>\n",
       "      <td>9.0</td>\n",
       "    </tr>\n",
       "    <tr>\n",
       "      <th>Passed</th>\n",
       "      <td>15.0</td>\n",
       "      <td>8.213333</td>\n",
       "      <td>0.106010</td>\n",
       "      <td>8.1</td>\n",
       "      <td>8.100</td>\n",
       "      <td>8.2</td>\n",
       "      <td>8.30</td>\n",
       "      <td>8.4</td>\n",
       "    </tr>\n",
       "    <tr>\n",
       "      <th>R</th>\n",
       "      <td>108.0</td>\n",
       "      <td>8.325000</td>\n",
       "      <td>0.247653</td>\n",
       "      <td>8.0</td>\n",
       "      <td>8.100</td>\n",
       "      <td>8.3</td>\n",
       "      <td>8.50</td>\n",
       "      <td>9.3</td>\n",
       "    </tr>\n",
       "    <tr>\n",
       "      <th>TV-MA</th>\n",
       "      <td>1.0</td>\n",
       "      <td>8.300000</td>\n",
       "      <td>NaN</td>\n",
       "      <td>8.3</td>\n",
       "      <td>8.300</td>\n",
       "      <td>8.3</td>\n",
       "      <td>8.30</td>\n",
       "      <td>8.3</td>\n",
       "    </tr>\n",
       "  </tbody>\n",
       "</table>\n",
       "</div>"
      ],
      "text/plain": [
       "             IMDB_Rating                                                \n",
       "                   count      mean       std  min    25%  50%   75%  max\n",
       "Movie_Rating                                                            \n",
       "Approved            11.0  8.281818  0.235874  8.1  8.100  8.2  8.35  8.9\n",
       "G                   13.0  8.276923  0.169085  8.0  8.100  8.3  8.40  8.5\n",
       "GP                   1.0  8.100000       NaN  8.1  8.100  8.1  8.10  8.1\n",
       "Not Rated           34.0  8.247059  0.150223  8.1  8.125  8.2  8.30  8.7\n",
       "PG                  35.0  8.285714  0.180103  8.1  8.100  8.3  8.40  8.7\n",
       "PG-13               30.0  8.406667  0.283978  8.1  8.125  8.4  8.60  9.0\n",
       "Passed              15.0  8.213333  0.106010  8.1  8.100  8.2  8.30  8.4\n",
       "R                  108.0  8.325000  0.247653  8.0  8.100  8.3  8.50  9.3\n",
       "TV-MA                1.0  8.300000       NaN  8.3  8.300  8.3  8.30  8.3"
      ]
     },
     "execution_count": 40,
     "metadata": {},
     "output_type": "execute_result"
    }
   ],
   "source": [
    "df.dtypes\n",
    "rating_mean = df.groupby('Movie_Rating').describe()\n",
    "rating_mean"
   ]
  },
  {
   "cell_type": "code",
   "execution_count": 41,
   "metadata": {},
   "outputs": [
    {
     "data": {
      "text/plain": [
       "<matplotlib.axes._subplots.AxesSubplot at 0x7ffda8189160>"
      ]
     },
     "execution_count": 41,
     "metadata": {},
     "output_type": "execute_result"
    },
    {
     "data": {
      "image/png": "[encoded data removed]",
      "text/plain": [
       "<Figure size 576x432 with 1 Axes>"
      ]
     },
     "metadata": {
      "needs_background": "light"
     },
     "output_type": "display_data"
    }
   ],
   "source": [
    "in_order = ['R', 'PG', 'Not Rated', 'PG-13', 'Passed', 'G', 'Approved', 'GP', 'TV-MA']\n",
    "plt.figure(figsize=(8, 6))\n",
    "\n",
    "font_dict = {'family': 'serif', 'size':16}\n",
    "plt.xlabel('Movie Certifications', fontdict=font_dict)\n",
    "plt.ylabel('IMDB_Rating', fontdict=font_dict)\n",
    "plt.title('IMDB_Rating per Movie Certification', fontdict=font_dict)\n",
    "plt.tick_params(axis='x', labelsize=14, rotation=45)\n",
    "plt.tick_params(axis='y', labelsize=14)\n",
    "sns.swarmplot(data=df, x = 'Movie_Rating', y= \"IMDB_Rating\", order = in_order)"
   ]
  },
  {
   "cell_type": "markdown",
   "metadata": {},
   "source": [
    "**Explode movies that have multiple genres**\n",
    "\n",
    "**Removed rows that does not have a value for Domestic_Gross**"
   ]
  },
  {
   "cell_type": "code",
   "execution_count": 42,
   "metadata": {},
   "outputs": [
    {
     "data": {
      "text/html": [
       "<div>\n",
       "<style scoped>\n",
       "    .dataframe tbody tr th:only-of-type {\n",
       "        vertical-align: middle;\n",
       "    }\n",
       "\n",
       "    .dataframe tbody tr th {\n",
       "        vertical-align: top;\n",
       "    }\n",
       "\n",
       "    .dataframe thead th {\n",
       "        text-align: right;\n",
       "    }\n",
       "</style>\n",
       "<table border=\"1\" class=\"dataframe\">\n",
       "  <thead>\n",
       "    <tr style=\"text-align: right;\">\n",
       "      <th></th>\n",
       "      <th>Title</th>\n",
       "      <th>Year_Released</th>\n",
       "      <th>Genres</th>\n",
       "      <th>Movie_Rating</th>\n",
       "      <th>IMDB_Rating</th>\n",
       "      <th>Director</th>\n",
       "      <th>Domestic_Gross(millions)</th>\n",
       "      <th>List_of_Genres</th>\n",
       "    </tr>\n",
       "  </thead>\n",
       "  <tbody>\n",
       "    <tr>\n",
       "      <th>0</th>\n",
       "      <td>The Shawshank Redemption</td>\n",
       "      <td>1994</td>\n",
       "      <td>Drama</td>\n",
       "      <td>R</td>\n",
       "      <td>9.3</td>\n",
       "      <td>Frank Darabont</td>\n",
       "      <td>$28.34M</td>\n",
       "      <td>Drama</td>\n",
       "    </tr>\n",
       "    <tr>\n",
       "      <th>1</th>\n",
       "      <td>The Godfather</td>\n",
       "      <td>1972</td>\n",
       "      <td>Crime, Drama</td>\n",
       "      <td>R</td>\n",
       "      <td>9.2</td>\n",
       "      <td>Francis Ford Coppola</td>\n",
       "      <td>$134.97M</td>\n",
       "      <td>Crime</td>\n",
       "    </tr>\n",
       "    <tr>\n",
       "      <th>1</th>\n",
       "      <td>The Godfather</td>\n",
       "      <td>1972</td>\n",
       "      <td>Crime, Drama</td>\n",
       "      <td>R</td>\n",
       "      <td>9.2</td>\n",
       "      <td>Francis Ford Coppola</td>\n",
       "      <td>$134.97M</td>\n",
       "      <td>Drama</td>\n",
       "    </tr>\n",
       "    <tr>\n",
       "      <th>2</th>\n",
       "      <td>The Dark Knight</td>\n",
       "      <td>2008</td>\n",
       "      <td>Action, Crime, Drama</td>\n",
       "      <td>PG-13</td>\n",
       "      <td>9.0</td>\n",
       "      <td>Christopher Nolan</td>\n",
       "      <td>$534.86M</td>\n",
       "      <td>Action</td>\n",
       "    </tr>\n",
       "    <tr>\n",
       "      <th>2</th>\n",
       "      <td>The Dark Knight</td>\n",
       "      <td>2008</td>\n",
       "      <td>Action, Crime, Drama</td>\n",
       "      <td>PG-13</td>\n",
       "      <td>9.0</td>\n",
       "      <td>Christopher Nolan</td>\n",
       "      <td>$534.86M</td>\n",
       "      <td>Crime</td>\n",
       "    </tr>\n",
       "  </tbody>\n",
       "</table>\n",
       "</div>"
      ],
      "text/plain": [
       "                      Title Year_Released                Genres Movie_Rating  \\\n",
       "0  The Shawshank Redemption          1994                 Drama            R   \n",
       "1             The Godfather          1972          Crime, Drama            R   \n",
       "1             The Godfather          1972          Crime, Drama            R   \n",
       "2           The Dark Knight          2008  Action, Crime, Drama        PG-13   \n",
       "2           The Dark Knight          2008  Action, Crime, Drama        PG-13   \n",
       "\n",
       "   IMDB_Rating              Director Domestic_Gross(millions) List_of_Genres  \n",
       "0          9.3        Frank Darabont                  $28.34M          Drama  \n",
       "1          9.2  Francis Ford Coppola                 $134.97M          Crime  \n",
       "1          9.2  Francis Ford Coppola                 $134.97M          Drama  \n",
       "2          9.0     Christopher Nolan                 $534.86M         Action  \n",
       "2          9.0     Christopher Nolan                 $534.86M          Crime  "
      ]
     },
     "metadata": {},
     "output_type": "display_data"
    },
    {
     "data": {
      "text/plain": [
       "List_of_Genres\n",
       "Action        43\n",
       "Adventure     56\n",
       "Animation     21\n",
       "Biography     26\n",
       "Comedy        42\n",
       "Crime         53\n",
       "Drama        181\n",
       "Family        14\n",
       "Fantasy       14\n",
       "Film-Noir      3\n",
       "History       15\n",
       "Horror         4\n",
       "Music          3\n",
       "Musical        3\n",
       "Mystery       30\n",
       "Romance       23\n",
       "Sci-Fi        22\n",
       "Sport          6\n",
       "Thriller      37\n",
       "War           19\n",
       "Western        6\n",
       "Name: Title, dtype: int64"
      ]
     },
     "metadata": {},
     "output_type": "display_data"
    }
   ],
   "source": [
    "#created a new column, List of Genres from Genres. Cleaned up Genres and explode\n",
    "\n",
    "df['List_of_Genres'] = df['Genres'].map(lambda x: x.strip().split(','))\n",
    "df = df.explode('List_of_Genres')\n",
    "\n",
    "df['List_of_Genres']=df['List_of_Genres'].map(lambda x: x.strip())\n",
    "display (df.head())\n",
    "\n",
    "genre_count = df.groupby(\"List_of_Genres\")['Title'].count()\n",
    "display(genre_count)"
   ]
  },
  {
   "cell_type": "code",
   "execution_count": 43,
   "metadata": {},
   "outputs": [
    {
     "data": {
      "image/png": "[encoded data removed]",
      "text/plain": [
       "<Figure size 720x720 with 1 Axes>"
      ]
     },
     "metadata": {
      "needs_background": "light"
     },
     "output_type": "display_data"
    }
   ],
   "source": [
    "i_order = ['Drama', 'Adventure', 'Crime', 'Action', 'Comedy', 'Thriller', 'Mystery', 'Biography', 'Romance', 'Sci-Fi', 'Animation', 'War', 'History', 'Family', \n",
    "            'Fantasy', 'Sport', 'Western', 'Horror', 'Film-Noir', 'Music', 'Musical']\n",
    "plt.figure(figsize=(10, 10))\n",
    "\n",
    "sns.countplot(y='List_of_Genres', order=i_order, data=df)\n",
    "font_dict = {'family': 'serif', 'size':24}\n",
    "plt.xlabel('Quantity', fontdict=font_dict)\n",
    "plt.ylabel('Genres', fontdict=font_dict)\n",
    "plt.title('Quantity of Genres', fontdict=font_dict)\n",
    "plt.tick_params(axis='both', labelsize=14)\n",
    "\n"
   ]
  },
  {
   "cell_type": "code",
   "execution_count": null,
   "metadata": {},
   "outputs": [],
   "source": []
  }
 ],
 "metadata": {
  "kernelspec": {
   "display_name": "learn-env",
   "language": "python",
   "name": "learn-env"
  },
  "language_info": {
   "codemirror_mode": {
    "name": "ipython",
    "version": 3
   },
   "file_extension": ".py",
   "mimetype": "text/x-python",
   "name": "python",
   "nbconvert_exporter": "python",
   "pygments_lexer": "ipython3",
   "version": "3.6.9"
  },
  "toc": {
   "base_numbering": 1,
   "nav_menu": {},
   "number_sections": true,
   "sideBar": true,
   "skip_h1_title": false,
   "title_cell": "Table of Contents",
   "title_sidebar": "Contents",
   "toc_cell": false,
   "toc_position": {
    "height": "calc(100% - 180px)",
    "left": "10px",
    "top": "150px",
    "width": "220.797px"
   },
   "toc_section_display": true,
   "toc_window_display": true
  },
  "varInspector": {
   "cols": {
    "lenName": 16,
    "lenType": 16,
    "lenVar": 40
   },
   "kernels_config": {
    "python": {
     "delete_cmd_postfix": "",
     "delete_cmd_prefix": "del ",
     "library": "var_list.py",
     "varRefreshCmd": "print(var_dic_list())"
    },
    "r": {
     "delete_cmd_postfix": ") ",
     "delete_cmd_prefix": "rm(",
     "library": "var_list.r",
     "varRefreshCmd": "cat(var_dic_list()) "
    }
   },
   "oldHeight": 122,
   "position": {
    "height": "40px",
    "left": "1180px",
    "right": "20px",
    "top": "253px",
    "width": "250px"
   },
   "types_to_exclude": [
    "module",
    "function",
    "builtin_function_or_method",
    "instance",
    "_Feature"
   ],
   "varInspector_section_display": "none",
   "window_display": true
  }
 },
 "nbformat": 4,
 "nbformat_minor": 2
}
